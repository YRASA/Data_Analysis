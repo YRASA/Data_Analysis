{
 "cells": [
  {
   "cell_type": "code",
   "execution_count": 1,
   "metadata": {},
   "outputs": [
    {
     "data": {
      "text/html": [
       "<div>\n",
       "<style scoped>\n",
       "    .dataframe tbody tr th:only-of-type {\n",
       "        vertical-align: middle;\n",
       "    }\n",
       "\n",
       "    .dataframe tbody tr th {\n",
       "        vertical-align: top;\n",
       "    }\n",
       "\n",
       "    .dataframe thead th {\n",
       "        text-align: right;\n",
       "    }\n",
       "</style>\n",
       "<table border=\"1\" class=\"dataframe\">\n",
       "  <thead>\n",
       "    <tr style=\"text-align: right;\">\n",
       "      <th></th>\n",
       "      <th>Id</th>\n",
       "      <th>SepalLengthCm</th>\n",
       "      <th>SepalWidthCm</th>\n",
       "      <th>PetalLengthCm</th>\n",
       "      <th>PetalWidthCm</th>\n",
       "      <th>Species</th>\n",
       "    </tr>\n",
       "  </thead>\n",
       "  <tbody>\n",
       "    <tr>\n",
       "      <th>95</th>\n",
       "      <td>96</td>\n",
       "      <td>5.7</td>\n",
       "      <td>3.0</td>\n",
       "      <td>4.2</td>\n",
       "      <td>1.2</td>\n",
       "      <td>Iris-versicolor</td>\n",
       "    </tr>\n",
       "    <tr>\n",
       "      <th>64</th>\n",
       "      <td>65</td>\n",
       "      <td>5.6</td>\n",
       "      <td>2.9</td>\n",
       "      <td>3.6</td>\n",
       "      <td>1.3</td>\n",
       "      <td>Iris-versicolor</td>\n",
       "    </tr>\n",
       "    <tr>\n",
       "      <th>81</th>\n",
       "      <td>82</td>\n",
       "      <td>5.5</td>\n",
       "      <td>2.4</td>\n",
       "      <td>3.7</td>\n",
       "      <td>1.0</td>\n",
       "      <td>Iris-versicolor</td>\n",
       "    </tr>\n",
       "    <tr>\n",
       "      <th>71</th>\n",
       "      <td>72</td>\n",
       "      <td>6.1</td>\n",
       "      <td>2.8</td>\n",
       "      <td>4.0</td>\n",
       "      <td>1.3</td>\n",
       "      <td>Iris-versicolor</td>\n",
       "    </tr>\n",
       "    <tr>\n",
       "      <th>132</th>\n",
       "      <td>133</td>\n",
       "      <td>6.4</td>\n",
       "      <td>2.8</td>\n",
       "      <td>5.6</td>\n",
       "      <td>2.2</td>\n",
       "      <td>Iris-virginica</td>\n",
       "    </tr>\n",
       "    <tr>\n",
       "      <th>59</th>\n",
       "      <td>60</td>\n",
       "      <td>5.2</td>\n",
       "      <td>2.7</td>\n",
       "      <td>3.9</td>\n",
       "      <td>1.4</td>\n",
       "      <td>Iris-versicolor</td>\n",
       "    </tr>\n",
       "    <tr>\n",
       "      <th>97</th>\n",
       "      <td>98</td>\n",
       "      <td>6.2</td>\n",
       "      <td>2.9</td>\n",
       "      <td>4.3</td>\n",
       "      <td>1.3</td>\n",
       "      <td>Iris-versicolor</td>\n",
       "    </tr>\n",
       "    <tr>\n",
       "      <th>137</th>\n",
       "      <td>138</td>\n",
       "      <td>6.4</td>\n",
       "      <td>3.1</td>\n",
       "      <td>5.5</td>\n",
       "      <td>1.8</td>\n",
       "      <td>Iris-virginica</td>\n",
       "    </tr>\n",
       "    <tr>\n",
       "      <th>56</th>\n",
       "      <td>57</td>\n",
       "      <td>6.3</td>\n",
       "      <td>3.3</td>\n",
       "      <td>4.7</td>\n",
       "      <td>1.6</td>\n",
       "      <td>Iris-versicolor</td>\n",
       "    </tr>\n",
       "    <tr>\n",
       "      <th>32</th>\n",
       "      <td>33</td>\n",
       "      <td>5.2</td>\n",
       "      <td>4.1</td>\n",
       "      <td>1.5</td>\n",
       "      <td>0.1</td>\n",
       "      <td>Iris-setosa</td>\n",
       "    </tr>\n",
       "  </tbody>\n",
       "</table>\n",
       "</div>"
      ],
      "text/plain": [
       "      Id  SepalLengthCm  SepalWidthCm  PetalLengthCm  PetalWidthCm  \\\n",
       "95    96            5.7           3.0            4.2           1.2   \n",
       "64    65            5.6           2.9            3.6           1.3   \n",
       "81    82            5.5           2.4            3.7           1.0   \n",
       "71    72            6.1           2.8            4.0           1.3   \n",
       "132  133            6.4           2.8            5.6           2.2   \n",
       "59    60            5.2           2.7            3.9           1.4   \n",
       "97    98            6.2           2.9            4.3           1.3   \n",
       "137  138            6.4           3.1            5.5           1.8   \n",
       "56    57            6.3           3.3            4.7           1.6   \n",
       "32    33            5.2           4.1            1.5           0.1   \n",
       "\n",
       "             Species  \n",
       "95   Iris-versicolor  \n",
       "64   Iris-versicolor  \n",
       "81   Iris-versicolor  \n",
       "71   Iris-versicolor  \n",
       "132   Iris-virginica  \n",
       "59   Iris-versicolor  \n",
       "97   Iris-versicolor  \n",
       "137   Iris-virginica  \n",
       "56   Iris-versicolor  \n",
       "32       Iris-setosa  "
      ]
     },
     "execution_count": 1,
     "metadata": {},
     "output_type": "execute_result"
    }
   ],
   "source": [
    "import pandas as pd\n",
    "import numpy as np\n",
    "from sklearn import neighbors\n",
    "from sklearn import tree\n",
    "from sklearn import ensemble\n",
    "iris = pd.read_csv(\"iris.csv\")\n",
    "iris.sample(10)"
   ]
  },
  {
   "cell_type": "code",
   "execution_count": 2,
   "metadata": {},
   "outputs": [
    {
     "data": {
      "text/plain": [
       "<matplotlib.axes._subplots.AxesSubplot at 0x27d4edf6708>"
      ]
     },
     "execution_count": 2,
     "metadata": {},
     "output_type": "execute_result"
    },
    {
     "data": {
      "image/png": "[encoded data removed]",
      "text/plain": [
       "<Figure size 432x288 with 1 Axes>"
      ]
     },
     "metadata": {
      "needs_background": "light"
     },
     "output_type": "display_data"
    }
   ],
   "source": [
    "import seaborn\n",
    "%matplotlib inline\n",
    "seaborn.regplot(x='PetalLengthCm', y='PetalWidthCm', data=iris)"
   ]
  },
  {
   "cell_type": "code",
   "execution_count": 3,
   "metadata": {},
   "outputs": [
    {
     "name": "stdout",
     "output_type": "stream",
     "text": [
      "(150, 1) (150,)\n",
      "-0.3665140452167275 [0.41641913]\n"
     ]
    }
   ],
   "source": [
    "from sklearn import linear_model\n",
    "lm = linear_model.LinearRegression()\n",
    "features = ['PetalLengthCm']\n",
    "X = iris[features]\n",
    "y = iris['PetalWidthCm']\n",
    "print(X.shape, y.shape)\n",
    "model = lm.fit(X,y)\n",
    "print(model.intercept_,model.coef_)\n",
    "# y = -0.3665140452167275 + 0.41641913 * x"
   ]
  },
  {
   "cell_type": "code",
   "execution_count": 4,
   "metadata": {},
   "outputs": [
    {
     "data": {
      "text/plain": [
       "array([1.29916248])"
      ]
     },
     "execution_count": 4,
     "metadata": {},
     "output_type": "execute_result"
    }
   ],
   "source": [
    "z = 4\n",
    "z = np.array(z).reshape(-1,1)\n",
    "model.predict(z)"
   ]
  },
  {
   "cell_type": "code",
   "execution_count": 5,
   "metadata": {},
   "outputs": [
    {
     "name": "stdout",
     "output_type": "stream",
     "text": [
      "0.16510575100411423\n",
      "0.04548097902618274\n"
     ]
    }
   ],
   "source": [
    "from sklearn.model_selection import cross_val_score\n",
    "scores1 = -cross_val_score(lm, X, y, cv=5, scoring='neg_mean_absolute_error')\n",
    "print(np.mean(scores1))\n",
    "scores2 = -cross_val_score(lm, X, y, cv=5, scoring='neg_mean_squared_error')\n",
    "print(np.mean(scores2))"
   ]
  },
  {
   "cell_type": "code",
   "execution_count": 6,
   "metadata": {},
   "outputs": [
    {
     "name": "stdout",
     "output_type": "stream",
     "text": [
      "(150, 2) (150,)\n",
      "-0.013852011013003152 [ 0.44992999 -0.08190841]\n",
      "0.046018952575842785\n"
     ]
    }
   ],
   "source": [
    "features = ['PetalLengthCm','SepalLengthCm']\n",
    "X = iris[features]\n",
    "y = iris['PetalWidthCm']\n",
    "print(X.shape, y.shape)\n",
    "model = lm.fit(X,y)\n",
    "print(model.intercept_,model.coef_)\n",
    "# y = -0.013852011013003152 + 0.44992999 * x1 + (-0.08190841 * x2)\n",
    "scores = -cross_val_score(lm, X, y, cv=5, scoring='neg_mean_squared_error')\n",
    "print(np.mean(scores))"
   ]
  },
  {
   "cell_type": "code",
   "execution_count": 7,
   "metadata": {},
   "outputs": [
    {
     "name": "stdout",
     "output_type": "stream",
     "text": [
      "(150, 3) (150,)\n",
      "-0.24872358602445455 [ 0.52608818 -0.21027133  0.22877721]\n",
      "0.039503660386097386\n"
     ]
    }
   ],
   "source": [
    "features = ['PetalLengthCm','SepalLengthCm','SepalWidthCm']\n",
    "X = iris[features]\n",
    "y = iris['PetalWidthCm']\n",
    "print(X.shape, y.shape)\n",
    "model = lm.fit(X,y)\n",
    "print(model.intercept_,model.coef_)\n",
    "# y = -0.24872358602445455+ 0.52608818 * x1 + (-0.21027133 * x2) + 0.22877721 * x3\n",
    "scores3 = -cross_val_score(lm, X, y, cv=5, scoring='neg_mean_squared_error')\n",
    "print(np.mean(scores3))"
   ]
  },
  {
   "cell_type": "code",
   "execution_count": 8,
   "metadata": {},
   "outputs": [
    {
     "name": "stdout",
     "output_type": "stream",
     "text": [
      "0.06853333333333332\n"
     ]
    }
   ],
   "source": [
    "dt2 = tree.DecisionTreeRegressor()\n",
    "scores9 = -cross_val_score(dt2,X,y,cv=5,scoring='neg_mean_squared_error')\n",
    "print(np.mean(scores9))"
   ]
  },
  {
   "cell_type": "code",
   "execution_count": 9,
   "metadata": {},
   "outputs": [
    {
     "name": "stdout",
     "output_type": "stream",
     "text": [
      "0.03926815407464672\n"
     ]
    }
   ],
   "source": [
    "knn1 = neighbors.KNeighborsRegressor(7,weights='distance')\n",
    "scores7 = -cross_val_score(knn1,X,y,cv=5,scoring='neg_mean_squared_error')\n",
    "print(np.mean(scores7))"
   ]
  },
  {
   "cell_type": "code",
   "execution_count": 10,
   "metadata": {},
   "outputs": [
    {
     "name": "stdout",
     "output_type": "stream",
     "text": [
      "0.04042996210370372\n"
     ]
    }
   ],
   "source": [
    "rf2 = ensemble.RandomForestRegressor(50)\n",
    "scores11 = -cross_val_score(rf2,X,y,cv=5,scoring='neg_mean_squared_error')\n",
    "print(np.mean(scores11))"
   ]
  },
  {
   "cell_type": "code",
   "execution_count": 11,
   "metadata": {},
   "outputs": [
    {
     "name": "stdout",
     "output_type": "stream",
     "text": [
      "(150, 2) (150,)\n",
      "-0.722106292155031 [0.42709377 0.10329727]\n",
      "0.04428769217674143\n"
     ]
    }
   ],
   "source": [
    "features = ['PetalLengthCm','SepalWidthCm']\n",
    "X = iris[features]\n",
    "y = iris['PetalWidthCm']\n",
    "print(X.shape, y.shape)\n",
    "model = lm.fit(X,y)\n",
    "print(model.intercept_,model.coef_)\n",
    "# y = -0.722106292155031 + 0.42709377 * x1 + 0.10329727 * x2\n",
    "scores4 = -cross_val_score(lm, X, y, cv=5, scoring='neg_mean_squared_error')\n",
    "print(np.mean(scores4))"
   ]
  },
  {
   "cell_type": "code",
   "execution_count": 12,
   "metadata": {},
   "outputs": [
    {
     "name": "stdout",
     "output_type": "stream",
     "text": [
      "[0 0 0 0 0 0 0 0 0 0 0 0 0 0 0 0 0 0 0 0 0 0 0 0 0 0 0 0 0 0 0 0 0 0 0 0 0\n",
      " 0 0 0 0 0 0 0 0 0 0 0 0 0 1 1 1 1 1 1 1 1 1 1 1 1 1 1 1 1 1 1 1 1 1 1 1 1\n",
      " 1 1 1 1 1 1 1 1 1 1 1 1 1 1 1 1 1 1 1 1 1 1 1 1 1 1 2 2 2 2 2 2 2 2 2 2 2\n",
      " 2 2 2 2 2 2 2 2 2 2 2 2 2 2 2 2 2 2 2 2 2 2 2 2 2 2 2 2 2 2 2 2 2 2 2 2 2\n",
      " 2 2]\n",
      "0.9533333333333334\n"
     ]
    }
   ],
   "source": [
    "from sklearn.preprocessing import LabelEncoder\n",
    "le = LabelEncoder()\n",
    "le.fit(iris['Species'])\n",
    "lm = linear_model.LogisticRegression()\n",
    "features = ['SepalLengthCm','SepalWidthCm','PetalLengthCm']\n",
    "X = iris[features]\n",
    "y = le.transform(iris['Species'])\n",
    "print(y)\n",
    "scores5 = cross_val_score(lm, X, y, cv=5, scoring='accuracy')\n",
    "print(np.mean(scores5))"
   ]
  },
  {
   "cell_type": "code",
   "execution_count": 13,
   "metadata": {},
   "outputs": [
    {
     "name": "stdout",
     "output_type": "stream",
     "text": [
      "0.9800000000000001\n"
     ]
    }
   ],
   "source": [
    "features=['PetalLengthCm','PetalWidthCm','SepalLengthCm','SepalWidthCm']\n",
    "X=iris[features]\n",
    "knn2 = neighbors.KNeighborsClassifier(10,weights='uniform')\n",
    "scores6 = cross_val_score(knn2,X,y,cv=5,scoring='accuracy')\n",
    "print(np.mean(scores6))"
   ]
  },
  {
   "cell_type": "code",
   "execution_count": 14,
   "metadata": {},
   "outputs": [
    {
     "name": "stdout",
     "output_type": "stream",
     "text": [
      "0.9666666666666668\n"
     ]
    }
   ],
   "source": [
    "rf1 = ensemble.RandomForestClassifier(150)\n",
    "scores10 = cross_val_score(rf1,X,y,cv=5,scoring='accuracy')\n",
    "print(np.mean(scores10))"
   ]
  },
  {
   "cell_type": "code",
   "execution_count": 15,
   "metadata": {},
   "outputs": [
    {
     "name": "stdout",
     "output_type": "stream",
     "text": [
      "0.9533333333333334\n"
     ]
    }
   ],
   "source": [
    "dt1 = tree.DecisionTreeClassifier()\n",
    "scores8 = cross_val_score(dt1,X,y,cv=5,scoring='accuracy')\n",
    "print(np.mean(scores8))"
   ]
  }
 ],
 "metadata": {
  "kernelspec": {
   "display_name": "Python 3",
   "language": "python",
   "name": "python3"
  },
  "language_info": {
   "codemirror_mode": {
    "name": "ipython",
    "version": 3
   },
   "file_extension": ".py",
   "mimetype": "text/x-python",
   "name": "python",
   "nbconvert_exporter": "python",
   "pygments_lexer": "ipython3",
   "version": "3.7.6"
  },
  "toc": {
   "base_numbering": 1,
   "nav_menu": {},
   "number_sections": true,
   "sideBar": true,
   "skip_h1_title": false,
   "title_cell": "Table of Contents",
   "title_sidebar": "Contents",
   "toc_cell": false,
   "toc_position": {},
   "toc_section_display": true,
   "toc_window_display": false
  }
 },
 "nbformat": 4,
 "nbformat_minor": 4
}

{
 "cells": [
  {
   "cell_type": "code",
   "execution_count": 3,
   "metadata": {},
   "outputs": [
    {
     "name": "stdout",
     "output_type": "stream",
     "text": [
      "[0.38131928 0.46255064 0.12619885 0.02993123]\n"
     ]
    }
   ],
   "source": [
    "import pandas\n",
    "import numpy as np\n",
    "from sklearn import ensemble\n",
    "from sklearn.preprocessing import LabelEncoder\n",
    "\n",
    "iris = pandas.read_csv(\"iris.csv\")\n",
    "le = LabelEncoder()\n",
    "le.fit(iris['Species'])\n",
    "rf = ensemble.RandomForestClassifier()\n",
    "features=['PetalLengthCm', 'PetalWidthCm', 'SepalLengthCm', 'SepalWidthCm']\n",
    "y = np.array(le.transform(iris['Species']))\n",
    "X = np.array(iris[features])\n",
    "\n",
    "#Gini importance\n",
    "rf.fit(X, y)\n",
    "print(rf.feature_importances_)"
   ]
  },
  {
   "cell_type": "code",
   "execution_count": 10,
   "metadata": {},
   "outputs": [
    {
     "name": "stdout",
     "output_type": "stream",
     "text": [
      "[ 0.26756158  0.2554844  -0.0070197  -0.00344828]\n"
     ]
    }
   ],
   "source": [
    "# Mean Decrease Accuracy\n",
    "from sklearn.metrics import accuracy_score\n",
    "from sklearn.model_selection import ShuffleSplit\n",
    "\n",
    "rs = ShuffleSplit(n_splits=10, test_size=0.2)\n",
    "scores = np.zeros((10,4))\n",
    "count = 0\n",
    "for train_idx, test_idx in rs.split(X):\n",
    "    X_train, X_test = X[train_idx], X[test_idx]\n",
    "    y_train, y_test = y[train_idx], y[test_idx]\n",
    "    r = rf.fit(X_train, y_train)\n",
    "    acc = accuracy_score(y_test, rf.predict(X_test))\n",
    "    for i in range(len(features)):\n",
    "        X_t = X_test.copy()\n",
    "        np.random.shuffle(X_t[:, i])\n",
    "        shuff_acc = accuracy_score(y_test, rf.predict(X_t))\n",
    "        scores[count, i] = ((acc-shuff_acc)/acc)\n",
    "    count += 1\n",
    "print(np.mean(scores, axis=0))"
   ]
  }
 ],
 "metadata": {
  "kernelspec": {
   "display_name": "Python 3",
   "language": "python",
   "name": "python3"
  },
  "language_info": {
   "codemirror_mode": {
    "name": "ipython",
    "version": 3
   },
   "file_extension": ".py",
   "mimetype": "text/x-python",
   "name": "python",
   "nbconvert_exporter": "python",
   "pygments_lexer": "ipython3",
   "version": "3.7.6"
  },
  "toc": {
   "base_numbering": 1,
   "nav_menu": {},
   "number_sections": true,
   "sideBar": true,
   "skip_h1_title": false,
   "title_cell": "Table of Contents",
   "title_sidebar": "Contents",
   "toc_cell": false,
   "toc_position": {},
   "toc_section_display": true,
   "toc_window_display": false
  }
 },
 "nbformat": 4,
 "nbformat_minor": 4
}

{
 "cells": [
  {
   "cell_type": "code",
   "execution_count": 7,
   "metadata": {},
   "outputs": [
    {
     "name": "stdout",
     "output_type": "stream",
     "text": [
      "LinearRegression -24462.478063162725\n",
      "RandomForestRegressor -20638.314750014826\n"
     ]
    }
   ],
   "source": [
    "import pandas as pd\n",
    "import numpy as np\n",
    "from sklearn.linear_model import LinearRegression\n",
    "from sklearn.ensemble import RandomForestRegressor\n",
    "\n",
    "from sklearn.model_selection import cross_val_score\n",
    "\n",
    "housing_df = pd.read_csv('train.csv')\n",
    "features = ['GrLivArea', 'TotalBsmtSF', 'GarageArea', 'YearBuilt', 'OverallQual']\n",
    "target = 'SalePrice'\n",
    "\n",
    "lr = LinearRegression()\n",
    "rf = RandomForestRegressor(100)\n",
    "\n",
    "models = [lr, rf]\n",
    "\n",
    "for model in models:\n",
    "    scores = cross_val_score(model, housing_df[features], housing_df[target], cv = 5, scoring = 'neg_mean_absolute_error')\n",
    "    print(type(model).__name__, np.mean(scores))"
   ]
  },
  {
   "cell_type": "code",
   "execution_count": 9,
   "metadata": {},
   "outputs": [
    {
     "name": "stdout",
     "output_type": "stream",
     "text": [
      "LinearRegression -23835.187000026515\n",
      "RandomForestRegressor -20861.424542022967\n"
     ]
    }
   ],
   "source": [
    "housing_df['HasBsmt'] = 0\n",
    "housing_df.at[housing_df['TotalBsmtSF'] > 0, 'HasBsmt'] = 1\n",
    "housing_df['LogArea'] = np.log(housing_df['GrLivArea'])\n",
    "\n",
    "new_features = ['GrLivArea', 'TotalBsmtSF', 'GarageArea', 'YearBuilt', 'OverallQual', 'HasBsmt', 'LogArea']\n",
    "\n",
    "lr = LinearRegression()\n",
    "rf = RandomForestRegressor(100)\n",
    "\n",
    "models = [lr, rf]\n",
    "\n",
    "for model in models:\n",
    "    scores = cross_val_score(model, housing_df[new_features], housing_df[target], cv = 5, scoring = 'neg_mean_absolute_error')\n",
    "    print(type(model).__name__, np.mean(scores))"
   ]
  }
 ],
 "metadata": {
  "kernelspec": {
   "display_name": "Python 3",
   "language": "python",
   "name": "python3"
  },
  "language_info": {
   "codemirror_mode": {
    "name": "ipython",
    "version": 3
   },
   "file_extension": ".py",
   "mimetype": "text/x-python",
   "name": "python",
   "nbconvert_exporter": "python",
   "pygments_lexer": "ipython3",
   "version": "3.7.6"
  },
  "toc": {
   "base_numbering": 1,
   "nav_menu": {},
   "number_sections": true,
   "sideBar": true,
   "skip_h1_title": false,
   "title_cell": "Table of Contents",
   "title_sidebar": "Contents",
   "toc_cell": false,
   "toc_position": {},
   "toc_section_display": true,
   "toc_window_display": false
  }
 },
 "nbformat": 4,
 "nbformat_minor": 4
}
